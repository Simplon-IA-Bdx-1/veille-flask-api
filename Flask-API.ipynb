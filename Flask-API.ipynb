{
 "cells": [
  {
   "cell_type": "markdown",
   "metadata": {
    "slideshow": {
     "slide_type": "slide"
    }
   },
   "source": [
    "# Flask, API and Models\n",
    "\n",
    "Offrir son modèle au monde...\n"
   ]
  },
  {
   "cell_type": "markdown",
   "metadata": {
    "slideshow": {
     "slide_type": "slide"
    }
   },
   "source": [
    "## Qu'est-ce qu'une API: Application Programming Interface"
   ]
  },
  {
   "cell_type": "markdown",
   "metadata": {
    "slideshow": {
     "slide_type": "slide"
    }
   },
   "source": [
    ">  Une interface de programmation d’application est un ensemble normalisé de classes, de méthodes, de fonctions et de constantes qui sert de façade par laquelle un logiciel offre des services à d'autres logiciels.  \n",
    ">  \n",
    "> [*Wikipedia*](https://fr.wikipedia.org/wiki/Interface_de_programmation)"
   ]
  },
  {
   "cell_type": "markdown",
   "metadata": {
    "slideshow": {
     "slide_type": "slide"
    }
   },
   "source": [
    "### REST API\n",
    "\n",
    "- HTTP verbs\n",
    "- CRUD\n",
    "\n",
    "CREATE => POST  \n",
    "READ => GET  \n",
    "UPDATE => PATCH, PUT  \n",
    "DELETE => DELETE  "
   ]
  },
  {
   "cell_type": "markdown",
   "metadata": {
    "slideshow": {
     "slide_type": "subslide"
    }
   },
   "source": [
    "Dans le cadre d'une *API REST*, on fournit à l'utilisateur des **routes** (endpoints) qui permettrons d'accéder à différents services.\n",
    "\n",
    "Par exemple, notre ami *BigMl* :\n",
    "\n",
    "Ces routes pourront ensuite être appelées de différentes manières:\n",
    "\n",
    "- par une interface graphique (site web)\n",
    "- via un terminal (curl)"
   ]
  },
  {
   "cell_type": "markdown",
   "metadata": {},
   "source": [
    "## FLASK\n",
    "\n",
    "Flask est un micro **framework** web en *Python*.  \n",
    "Il permet de très rapidement mettre en place un service d'API."
   ]
  },
  {
   "cell_type": "code",
   "execution_count": null,
   "metadata": {},
   "outputs": [],
   "source": []
  }
 ],
 "metadata": {
  "celltoolbar": "Diaporama",
  "kernelspec": {
   "display_name": "Python 3",
   "language": "python",
   "name": "python3"
  },
  "language_info": {
   "codemirror_mode": {
    "name": "ipython",
    "version": 3
   },
   "file_extension": ".py",
   "mimetype": "text/x-python",
   "name": "python",
   "nbconvert_exporter": "python",
   "pygments_lexer": "ipython3",
   "version": "3.7.5"
  },
  "toc": {
   "base_numbering": 1,
   "nav_menu": {},
   "number_sections": true,
   "sideBar": true,
   "skip_h1_title": true,
   "title_cell": "Table of Contents",
   "title_sidebar": "Contents",
   "toc_cell": false,
   "toc_position": {},
   "toc_section_display": true,
   "toc_window_display": true
  }
 },
 "nbformat": 4,
 "nbformat_minor": 2
}
