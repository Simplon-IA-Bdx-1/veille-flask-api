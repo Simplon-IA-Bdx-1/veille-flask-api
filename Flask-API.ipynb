{
 "cells": [
  {
   "cell_type": "markdown",
   "metadata": {
    "cell_style": "center",
    "slideshow": {
     "slide_type": "slide"
    }
   },
   "source": [
    "# Flask, API and Models\n",
    "\n"
   ]
  },
  {
   "cell_type": "markdown",
   "metadata": {
    "slideshow": {
     "slide_type": "slide"
    }
   },
   "source": [
    "## Qu'est-ce qu'une API: Application Programming Interface"
   ]
  },
  {
   "cell_type": "code",
   "execution_count": 5,
   "metadata": {},
   "outputs": [
    {
     "data": {
      "text/html": [
       "<img src=\"https://api.les-tilleuls.coop/upload/12\"/>"
      ],
      "text/plain": [
       "<IPython.core.display.Image object>"
      ]
     },
     "execution_count": 5,
     "metadata": {},
     "output_type": "execute_result"
    }
   ],
   "source": [
    "from IPython.display import Image\n",
    "from IPython.core.display import HTML \n",
    "Image(url= \"https://api.les-tilleuls.coop/upload/12\")"
   ]
  },
  {
   "cell_type": "markdown",
   "metadata": {
    "slideshow": {
     "slide_type": "slide"
    }
   },
   "source": [
    ">  Une interface de programmation d’application est un ensemble normalisé de classes, de méthodes, de fonctions et de constantes qui sert de façade par laquelle un logiciel offre des services à d'autres logiciels.  \n",
    ">  \n",
    "> [*Wikipedia*](https://fr.wikipedia.org/wiki/Interface_de_programmation)"
   ]
  },
  {
   "cell_type": "markdown",
   "metadata": {
    "slideshow": {
     "slide_type": "slide"
    }
   },
   "source": [
    "### REST API\n",
    "\n",
    "Une **API REST** (REpresentational State Transfer) est le type le plus utilisé et le plus fréquent d’**API** sur internet.\n",
    "\n",
    "- HTTP verbs\n",
    "- CRUD\n",
    "\n",
    "CREATE => POST  \n",
    "READ => GET  \n",
    "UPDATE => PATCH, PUT  \n",
    "DELETE => DELETE  "
   ]
  },
  {
   "cell_type": "markdown",
   "metadata": {
    "slideshow": {
     "slide_type": "subslide"
    }
   },
   "source": [
    "Dans le cadre d'une *API REST*, on fournit à l'utilisateur des **routes** (endpoints) qui permettrons d'accéder à différents services.\n",
    "\n",
    "Par exemple, notre ami *BigMl* :\n",
    "\n",
    "Ces routes pourront ensuite être appelées de différentes manières:\n",
    "\n",
    "- par une interface graphique (site web)\n",
    "- via un terminal (curl)"
   ]
  },
  {
   "cell_type": "markdown",
   "metadata": {},
   "source": [
    "## FLASK\n",
    "\n",
    "* Flask est un **micro-framework web** écrit en langage de programmation Python. <br>(micro-framework web = ensemble de modules qui permettent de développer plus rapidement\n",
    "* Flask est conçu pour les applications Python.\n",
    "* Flask aide à implémenter une application d'apprentissage automatique en Python qui peut être facilement branchée, étendue et déployée en tant qu'application Web.\n",
    "* Flask est basé sur deux composants clés: la boîte à outils WSGI et le moteur de modèle Jinja2. WSGI est une spécification pour les applications Web et Jinja2 affiche des pages Web.\n",
    "* Linkedin, Pinterest utilisent le framework Flask."
   ]
  },
  {
   "cell_type": "code",
   "execution_count": 4,
   "metadata": {},
   "outputs": [
    {
     "data": {
      "text/html": [
       "<img src=\"https://cdn-images-1.medium.com/max/1600/1*Z7JzWs0yIRi0y9nJNZEcew.png\"/>"
      ],
      "text/plain": [
       "<IPython.core.display.Image object>"
      ]
     },
     "execution_count": 4,
     "metadata": {},
     "output_type": "execute_result"
    }
   ],
   "source": [
    "from IPython.display import Image\n",
    "from IPython.core.display import HTML \n",
    "Image(url= \"https://cdn-images-1.medium.com/max/1600/1*Z7JzWs0yIRi0y9nJNZEcew.png\")\n",
    "\n"
   ]
  },
  {
   "cell_type": "markdown",
   "metadata": {},
   "source": [
    "1- **app.py**: ce fichier Python contiendra le code spécifique Flask. <br>\n",
    "2- **Templates folder**: ce dossier contiendra les fichiers HTML. Ces fichiers HTML seront affichés sur le navigateur Web.<br>\n",
    "3- Fichiers js, css et autres fichiers python s'ils sont nécessaires."
   ]
  },
  {
   "cell_type": "markdown",
   "metadata": {},
   "source": [
    "### Example test.py"
   ]
  },
  {
   "cell_type": "code",
   "execution_count": null,
   "metadata": {},
   "outputs": [],
   "source": [
    "from flask import Flask\n",
    "\n",
    "app = Flask(__name__)\n",
    "\n",
    "# Adresse localhost:5000 - \"/\"pour etre dans la page d'accueil\n",
    "@app.route('/')\n",
    "def index():\n",
    "    return \"Hello world !\"\n",
    "\n",
    "\n",
    "#Cette dernière partie permet juste de faire en sorte que l'application se lance quand on lance le code dans le terminal.\n",
    "if __name__ == \"__main__\":\n",
    "    app.run()"
   ]
  },
  {
   "cell_type": "markdown",
   "metadata": {},
   "source": [
    "## Références:\n",
    "\n",
    "* https://medium.com/fintechexplained/flask-host-your-python-machine-learning-model-on-web-b598151886d\n",
    "\n",
    "* https://flask-pymongo.readthedocs.io/en/latest/\n",
    "\n",
    "\n",
    "\n"
   ]
  },
  {
   "cell_type": "code",
   "execution_count": null,
   "metadata": {},
   "outputs": [],
   "source": []
  }
 ],
 "metadata": {
  "celltoolbar": "Diaporama",
  "kernelspec": {
   "display_name": "Python 3",
   "language": "python",
   "name": "python3"
  },
  "language_info": {
   "codemirror_mode": {
    "name": "ipython",
    "version": 3
   },
   "file_extension": ".py",
   "mimetype": "text/x-python",
   "name": "python",
   "nbconvert_exporter": "python",
   "pygments_lexer": "ipython3",
   "version": "3.7.4"
  },
  "toc": {
   "base_numbering": 1,
   "nav_menu": {},
   "number_sections": true,
   "sideBar": true,
   "skip_h1_title": true,
   "title_cell": "Table of Contents",
   "title_sidebar": "Contents",
   "toc_cell": false,
   "toc_position": {
    "height": "calc(100% - 180px)",
    "left": "10px",
    "top": "150px",
    "width": "165px"
   },
   "toc_section_display": true,
   "toc_window_display": false
  }
 },
 "nbformat": 4,
 "nbformat_minor": 2
}
